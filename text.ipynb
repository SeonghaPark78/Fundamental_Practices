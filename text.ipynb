{
 "cells": [
  {
   "cell_type": "code",
   "execution_count": 5,
   "id": "1ef0d57b",
   "metadata": {},
   "outputs": [
    {
     "name": "stdout",
     "output_type": "stream",
     "text": [
      "Welcome!\n",
      "You're welcome.\n",
      "<class 'str'>\n",
      "<class 'str'>\n"
     ]
    }
   ],
   "source": [
    "my_str = 'Welcome!'\n",
    "ur_str = \"You're welcome.\"\n",
    "\n",
    "print(my_str)\n",
    "print(ur_str)\n",
    "\n",
    "print(type(my_str))\n",
    "print(type(ur_str))"
   ]
  },
  {
   "cell_type": "code",
   "execution_count": 6,
   "id": "b57f41cc",
   "metadata": {},
   "outputs": [
    {
     "name": "stdout",
     "output_type": "stream",
     "text": [
      "97\n",
      "65\n",
      "a\n",
      "A\n",
      "44032\n",
      "가\n"
     ]
    }
   ],
   "source": [
    "print(ord('a'))    \n",
    "print(ord('A'))\n",
    "print(chr(97))\n",
    "print(chr(65))\n",
    "print(ord('가'))\n",
    "print(chr(0xAC00))   "
   ]
  },
  {
   "cell_type": "code",
   "execution_count": 8,
   "id": "f7ae6ff8",
   "metadata": {},
   "outputs": [
    {
     "name": "stdout",
     "output_type": "stream",
     "text": [
      "<class 'bytes'> <class 'str'> <class 'bytes'>\n"
     ]
    }
   ],
   "source": [
    "str1 = b'hello'\n",
    "str2 = 'hello'\n",
    "str3 = b'hello'\n",
    "print(type(str1), type(str2), type(str3))  "
   ]
  },
  {
   "cell_type": "code",
   "execution_count": null,
   "id": "971c1157",
   "metadata": {},
   "outputs": [],
   "source": []
  },
  {
   "cell_type": "code",
   "execution_count": 9,
   "id": "17e77300",
   "metadata": {},
   "outputs": [
    {
     "ename": "SyntaxError",
     "evalue": "invalid syntax (4145611764.py, line 1)",
     "output_type": "error",
     "traceback": [
      "\u001b[0;36m  File \u001b[0;32m\"/tmp/ipykernel_64/4145611764.py\"\u001b[0;36m, line \u001b[0;32m1\u001b[0m\n\u001b[0;31m    s = 'I don't like Python!'\u001b[0m\n\u001b[0m               ^\u001b[0m\n\u001b[0;31mSyntaxError\u001b[0m\u001b[0;31m:\u001b[0m invalid syntax\n"
     ]
    }
   ],
   "source": [
    "#'끼리 짝을 이루어 I don을 감쌌다\n",
    "s = 'I don't like Python!'"
   ]
  },
  {
   "cell_type": "code",
   "execution_count": 10,
   "id": "ab92517a",
   "metadata": {},
   "outputs": [
    {
     "name": "stdout",
     "output_type": "stream",
     "text": [
      "사회적\n",
      "거리두기\n",
      "--------------------------\n",
      "사회적\t거리두기\n",
      "--------------------------\n",
      "오늘부터 '사회적 거리두기'\n"
     ]
    }
   ],
   "source": [
    "print(\"사회적\\n거리두기\")\n",
    "print('--------------------------')\n",
    "\n",
    "print(\"사회적\\t거리두기\")\n",
    "print('--------------------------')\n",
    "\n",
    "print('오늘부터 \\'사회적 거리두기\\'')"
   ]
  },
  {
   "cell_type": "code",
   "execution_count": 11,
   "id": "1fbafec5",
   "metadata": {},
   "outputs": [
    {
     "name": "stdout",
     "output_type": "stream",
     "text": [
      "Please don't touch it\n",
      "b\"Please don't touch it\"\n"
     ]
    }
   ],
   "source": [
    "print('Please don\\'t touch it')\n",
    "print(b'Please don\\'t touch it')"
   ]
  },
  {
   "cell_type": "code",
   "execution_count": 12,
   "id": "6c92e1b2",
   "metadata": {},
   "outputs": [
    {
     "data": {
      "text/plain": [
       "['OB94382', 'OB32308', 'OB83461', 'OB74830', 'OB82345']"
      ]
     },
     "execution_count": 12,
     "metadata": {},
     "output_type": "execute_result"
    }
   ],
   "source": [
    "EmployeeID = ['OB94382', 'OW34723', 'OB32308', 'OB83461', \n",
    "                                  'OB74830', 'OW37402', 'OW11235', 'OB82345'] \n",
    "Production_Employee = [P for P in EmployeeID if P.startswith('OB')]   # 'OB'로 시작하는 직원 ID를 다 찾아봅니다\n",
    "Production_Employee"
   ]
  },
  {
   "cell_type": "code",
   "execution_count": 13,
   "id": "ba4d235d",
   "metadata": {},
   "outputs": [
    {
     "name": "stdout",
     "output_type": "stream",
     "text": [
      "['image5.png', 'image2.png', 'image12.png', 'image3.png', 'image8.png', 'image13.png', 'image6.png', 'image4.png', 'image14.png', 'image9.png', 'image10.png', 'image7.png', 'image11.png', 'image1.png']\n"
     ]
    }
   ],
   "source": [
    "import os\n",
    "image_dir_path = os.getenv(\"HOME\") + \"/data/pictures\"   \n",
    "photo = os.listdir(image_dir_path )\n",
    "png = [png for png in photo if png.endswith('.png')]\n",
    "print(png)"
   ]
  },
  {
   "cell_type": "code",
   "execution_count": 14,
   "id": "5ca1984d",
   "metadata": {},
   "outputs": [
    {
     "name": "stdout",
     "output_type": "stream",
     "text": [
      "사회적 거리두기\n",
      "--------------------------\n",
      "사회적\t거리두기\n",
      "--------------------------\n",
      "사회적\n",
      "거리두기\n",
      "--------------------------\n",
      "사회적거리두기\n"
     ]
    }
   ],
   "source": [
    "print(\"사회적 거리두기\")\n",
    "print('--------------------------')\n",
    "print(\"사회적\\t거리두기\")\n",
    "print('--------------------------')\n",
    "print(\"사회적\\n거리두기\")\n",
    "print('--------------------------')\n",
    "print(\"사회적거리두기\")"
   ]
  },
  {
   "cell_type": "code",
   "execution_count": 15,
   "id": "88609785",
   "metadata": {},
   "outputs": [
    {
     "name": "stdout",
     "output_type": "stream",
     "text": [
      "[      Strip white spaces.      ]\n",
      "--------------------------\n",
      "[Strip white spaces.]\n",
      "--------------------------\n",
      "[Strip white spaces.      ]\n",
      "--------------------------\n",
      "[      Strip white spaces.]\n"
     ]
    }
   ],
   "source": [
    "txt = \"      Strip white spaces.      \"\n",
    "print('[{}]'.format(txt))\n",
    "print('--------------------------')\n",
    "\n",
    "#- 양쪽 공백 제거 : strip()\n",
    "print('[{}]'.format(txt.strip()))\n",
    "print('--------------------------')\n",
    "\n",
    "#- 왼쪽 공백 제거 : lstrip()\n",
    "print('[{}]'.format(txt.lstrip()))\n",
    "print('--------------------------')\n",
    "\n",
    "#- 오른쪽 공백 제거 : rstrip()\n",
    "print('[{}]'.format(txt.rstrip()))"
   ]
  },
  {
   "cell_type": "code",
   "execution_count": 16,
   "id": "c0da9597",
   "metadata": {},
   "outputs": [
    {
     "data": {
      "text/plain": [
       "'I FELL INTO AIFFEL'"
      ]
     },
     "execution_count": 16,
     "metadata": {},
     "output_type": "execute_result"
    }
   ],
   "source": [
    "txt = \"I fell into AIFFEL\"\n",
    "txt.upper()"
   ]
  },
  {
   "cell_type": "code",
   "execution_count": 17,
   "id": "7421ee0c",
   "metadata": {},
   "outputs": [
    {
     "data": {
      "text/plain": [
       "'i fell into aiffel'"
      ]
     },
     "execution_count": 17,
     "metadata": {},
     "output_type": "execute_result"
    }
   ],
   "source": [
    "txt.lower()"
   ]
  },
  {
   "cell_type": "code",
   "execution_count": 18,
   "id": "d5a3070c",
   "metadata": {},
   "outputs": [
    {
     "data": {
      "text/plain": [
       "'I fell into aiffel'"
      ]
     },
     "execution_count": 18,
     "metadata": {},
     "output_type": "execute_result"
    }
   ],
   "source": [
    "txt.capitalize()"
   ]
  },
  {
   "cell_type": "code",
   "execution_count": 19,
   "id": "cb51de6e",
   "metadata": {},
   "outputs": [
    {
     "name": "stdout",
     "output_type": "stream",
     "text": [
      "False\n",
      "True\n",
      "False\n",
      "False\n",
      "True\n",
      "True\n"
     ]
    }
   ],
   "source": [
    "print(\"aiffel\".isupper())\n",
    "print(\"aiffel\".islower())\n",
    "print(\"PYTHON\".istitle())\n",
    "print(\"python101\".isalpha())\n",
    "print(\"python101\".isalnum())\n",
    "print(\"101\".isdecimal())"
   ]
  },
  {
   "cell_type": "code",
   "execution_count": 20,
   "id": "f60e75a6",
   "metadata": {},
   "outputs": [
    {
     "data": {
      "text/plain": [
       "'fundamentals, exploration, goingdeeper'"
      ]
     },
     "execution_count": 20,
     "metadata": {},
     "output_type": "execute_result"
    }
   ],
   "source": [
    "stages = ['fundamentals', 'exploration', 'goingdeeper']\n",
    "\", \".join(stages)"
   ]
  },
  {
   "cell_type": "code",
   "execution_count": 21,
   "id": "412af1a7",
   "metadata": {},
   "outputs": [
    {
     "data": {
      "text/plain": [
       "'fundamentals exploration goingdeeper'"
      ]
     },
     "execution_count": 21,
     "metadata": {},
     "output_type": "execute_result"
    }
   ],
   "source": [
    "\" \".join(stages)"
   ]
  },
  {
   "cell_type": "code",
   "execution_count": 22,
   "id": "e1100392",
   "metadata": {},
   "outputs": [
    {
     "data": {
      "text/plain": [
       "['fundamentals,exploration,goingdeeper']"
      ]
     },
     "execution_count": 22,
     "metadata": {},
     "output_type": "execute_result"
    }
   ],
   "source": [
    "'fundamentals,exploration,goingdeeper'.split(', ')"
   ]
  },
  {
   "cell_type": "code",
   "execution_count": 23,
   "id": "75d398e0",
   "metadata": {},
   "outputs": [
    {
     "data": {
      "text/plain": [
       "'You can do it!'"
      ]
     },
     "execution_count": 23,
     "metadata": {},
     "output_type": "execute_result"
    }
   ],
   "source": [
    "sent = 'I can do it!'\n",
    "sent.replace('I', 'You')"
   ]
  },
  {
   "cell_type": "code",
   "execution_count": 24,
   "id": "2261c1df",
   "metadata": {},
   "outputs": [
    {
     "name": "stdout",
     "output_type": "stream",
     "text": [
      "I fell into AIFFEL\n",
      "139955071700464\n",
      "I fell into AIFFEL\n",
      "139955071700464\n"
     ]
    }
   ],
   "source": [
    "sent = 'I fell into AIFFEL'\n",
    "print(sent)\n",
    "print(id(sent))\n",
    "sent.upper()\n",
    "print(sent)\n",
    "print(id(sent))"
   ]
  },
  {
   "cell_type": "code",
   "execution_count": 25,
   "id": "528f1e0d",
   "metadata": {},
   "outputs": [
    {
     "name": "stdout",
     "output_type": "stream",
     "text": [
      "I fell into AIFFEL\n",
      "139955071700704\n",
      "I FELL INTO AIFFEL\n",
      "139955071700464\n"
     ]
    }
   ],
   "source": [
    "sent = 'I fell into AIFFEL'\n",
    "print(sent)\n",
    "print(id(sent))\n",
    "sent = sent.upper()\n",
    "print(sent)\n",
    "print(id(sent))"
   ]
  },
  {
   "cell_type": "code",
   "execution_count": null,
   "id": "a90420e4",
   "metadata": {},
   "outputs": [],
   "source": []
  },
  {
   "cell_type": "code",
   "execution_count": 26,
   "id": "bef9fb9b",
   "metadata": {},
   "outputs": [
    {
     "data": {
      "text/plain": [
       "'You can do it!'"
      ]
     },
     "execution_count": 26,
     "metadata": {},
     "output_type": "execute_result"
    }
   ],
   "source": [
    "sent = 'I can do it!'\n",
    "rep = sent.replace(\"I\", \"You\")\n",
    "rep"
   ]
  },
  {
   "cell_type": "code",
   "execution_count": 27,
   "id": "6d093530",
   "metadata": {},
   "outputs": [
    {
     "data": {
      "text/plain": [
       "'You can do it!'"
      ]
     },
     "execution_count": 27,
     "metadata": {},
     "output_type": "execute_result"
    }
   ],
   "source": [
    "import re\n",
    "sent = 'I can do it!'\n",
    "pattern = re.sub(\"I\", \"You\", sent)\n",
    "pattern"
   ]
  },
  {
   "cell_type": "code",
   "execution_count": 28,
   "id": "feb59890",
   "metadata": {},
   "outputs": [
    {
     "data": {
      "text/plain": [
       "['the', 'the', 'the']"
      ]
     },
     "execution_count": 28,
     "metadata": {},
     "output_type": "execute_result"
    }
   ],
   "source": [
    "#1단계 :  \"the\"라는 패턴을 컴파일한 후 패턴 객체를 리턴한다. \n",
    "pattern = re.compile(\"the\")    \n",
    "\n",
    "# 2단계 : 컴파일된 패턴 객체를 활용하여 다른 텍스트에서 검색을 수행한다.\n",
    "pattern.findall('of the people, for the people, by the people')"
   ]
  },
  {
   "cell_type": "code",
   "execution_count": 29,
   "id": "f5265b79",
   "metadata": {},
   "outputs": [
    {
     "data": {
      "text/plain": [
       "['the', 'the', 'the']"
      ]
     },
     "execution_count": 29,
     "metadata": {},
     "output_type": "execute_result"
    }
   ],
   "source": [
    "re.findall('the', 'of the people, for the people, by the people')"
   ]
  },
  {
   "cell_type": "code",
   "execution_count": 30,
   "id": "1281e89e",
   "metadata": {},
   "outputs": [
    {
     "name": "stdout",
     "output_type": "stream",
     "text": [
      "<re.Match object; span=(0, 2), match='My'>\n",
      "My\n"
     ]
    }
   ],
   "source": [
    "src = \"My name is...\"\n",
    "regex = re.match(\"My\", src)\n",
    "print(regex)\n",
    "if regex:\n",
    "    print(regex.group())\n",
    "else:\n",
    "    print(\"No!\")"
   ]
  },
  {
   "cell_type": "code",
   "execution_count": 31,
   "id": "73fc1336",
   "metadata": {},
   "outputs": [
    {
     "data": {
      "text/plain": [
       "['1993', '1995', '2019', '2000', '2002', '2013', '2015', '2017']"
      ]
     },
     "execution_count": 31,
     "metadata": {},
     "output_type": "execute_result"
    }
   ],
   "source": [
    "text = \"\"\"\n",
    "The first season of America Premiere League  was played in 1993. \n",
    "The second season was played in 1995 in South Africa. \n",
    "Last season was played in 2019 and won by Chennai Super Kings (CSK).\n",
    "CSK won the title in 2000 and 2002 as well.\n",
    "Mumbai Indians (MI) has also won the title 3 times in 2013, 2015 and 2017.\n",
    "\"\"\"\n",
    "pattern = re.compile(\"[1-2]\\d\\d\\d\")\n",
    "pattern.findall(text)"
   ]
  },
  {
   "cell_type": "code",
   "execution_count": 33,
   "id": "6fcacae9",
   "metadata": {},
   "outputs": [
    {
     "name": "stdout",
     "output_type": "stream",
     "text": [
      "010-111-1111\n",
      "------\n"
     ]
    }
   ],
   "source": [
    "phonenumber = re.compile(r'\\d\\d\\d-\\d\\d\\d-\\d\\d\\d\\d')\n",
    "phone = phonenumber.search('This is my phone number 010-111-1111')\n",
    "if phone:\n",
    "    print(phone.group())\n",
    "print('------')\n",
    "phone = phonenumber.match ('This is my phone number 010-111-1111')\n",
    "if phone:\n",
    "    print(phone)"
   ]
  },
  {
   "cell_type": "code",
   "execution_count": 34,
   "id": "15ea458b",
   "metadata": {},
   "outputs": [
    {
     "name": "stdout",
     "output_type": "stream",
     "text": [
      "010-111-1111\n",
      "------\n"
     ]
    }
   ],
   "source": [
    "phonenumber = re.compile(r'\\d{3}-\\d{3}-\\d{4}')\n",
    "phone = phonenumber.search('This is my phone number 010-111-1111')\n",
    "if phone:\n",
    "    print(phone.group())\n",
    "print('------')\n",
    "phone = phonenumber.match ('This is my phone number 010-111-1111')\n",
    "if phone:\n",
    "    print(phone.group())"
   ]
  },
  {
   "cell_type": "code",
   "execution_count": 35,
   "id": "7f383201",
   "metadata": {},
   "outputs": [
    {
     "name": "stdout",
     "output_type": "stream",
     "text": [
      "010-111-1111\n",
      "------\n"
     ]
    }
   ],
   "source": [
    "phonenumber = re.compile(r'(\\d{3}-){2}\\d{4}')\n",
    "phone = phonenumber.search('This is my phone number 010-111-1111')\n",
    "if phone:\n",
    "    print(phone.group())\n",
    "print('------')\n",
    "phone = phonenumber.match ('This is my phone number 010-111-1111')\n",
    "if phone:\n",
    "    print(phone.group())"
   ]
  },
  {
   "cell_type": "code",
   "execution_count": 36,
   "id": "ae2e760e",
   "metadata": {},
   "outputs": [
    {
     "data": {
      "text/plain": [
       "['doingharu@aiffel.com', 'tomorrow@aiffel.com']"
      ]
     },
     "execution_count": 36,
     "metadata": {},
     "output_type": "execute_result"
    }
   ],
   "source": [
    "text = \"My e-mail adress is doingharu@aiffel.com, and tomorrow@aiffel.com\"\n",
    "pattern = re.compile(\"[0-9a-zA-Z]+@[0-9a-zA-Z]+\\.[0-9a-zA-Z]+\")\n",
    "pattern.findall(text)"
   ]
  },
  {
   "cell_type": "code",
   "execution_count": null,
   "id": "78e87fde",
   "metadata": {},
   "outputs": [],
   "source": []
  },
  {
   "cell_type": "code",
   "execution_count": 40,
   "id": "2cda7639",
   "metadata": {},
   "outputs": [
    {
     "name": "stdout",
     "output_type": "stream",
     "text": [
      "안녕안녕안녕안녕안녕안녕안녕안녕안녕안녕\n"
     ]
    }
   ],
   "source": [
    "f = open(\"hello.txt\",\"w\") \n",
    "#- open(파일명, 파일모드)\n",
    "#- 파일을 열고 파일 객체를 반환\n",
    "for i in range(10):\n",
    "    f.write(\"안녕\")\n",
    "\n",
    "f.close()\n",
    "\n",
    "with open(\"hello.txt\", \"r\") as f:\n",
    "    print(f.read())"
   ]
  },
  {
   "cell_type": "code",
   "execution_count": 44,
   "id": "296e0cc4",
   "metadata": {},
   "outputs": [],
   "source": [
    "quotes = [\"\\n안녕하세요.\\n\", \"반갑습니다.\\n\", \"오랜만입니다.\\n\"]\n",
    "\n",
    "with open(\"hello.txt\", \"a\") as f:              \n",
    "    f.writelines(quotes)"
   ]
  },
  {
   "cell_type": "code",
   "execution_count": 45,
   "id": "0063aabf",
   "metadata": {},
   "outputs": [
    {
     "name": "stdout",
     "output_type": "stream",
     "text": [
      "위치 : 170\n",
      "['안녕안녕안녕안녕안녕안녕안녕안녕안녕안녕\\n', '안녕하세요.\\n', '반갑습니다.\\n', '오랜만입니다.\\n', '\\n', '안녕하세요.\\n', '반갑습니다.\\n', '오랜만입니다.\\n']\n",
      "----------------------------------------------------\n",
      "위치 : 10\n"
     ]
    }
   ],
   "source": [
    "with open('hello.txt', 'r') as f:\n",
    "    hello = f.readlines()\n",
    "    print(f'위치 : {f.tell()}')\n",
    "    print(hello)\n",
    "    print(\"----------------------------------------------------\")\n",
    "    f.seek(10)\n",
    "    print(f'위치 : {f.tell()}')"
   ]
  },
  {
   "cell_type": "code",
   "execution_count": null,
   "id": "a2aece9a",
   "metadata": {},
   "outputs": [],
   "source": []
  },
  {
   "cell_type": "code",
   "execution_count": 46,
   "id": "c3d4874e",
   "metadata": {},
   "outputs": [
    {
     "data": {
      "text/plain": [
       "'/opt/conda/bin/python'"
      ]
     },
     "execution_count": 46,
     "metadata": {},
     "output_type": "execute_result"
    }
   ],
   "source": [
    "import sys\n",
    "sys.executable"
   ]
  },
  {
   "cell_type": "code",
   "execution_count": 47,
   "id": "323f068e",
   "metadata": {},
   "outputs": [
    {
     "data": {
      "text/plain": [
       "['/aiffel',\n",
       " '/opt/conda/lib/python39.zip',\n",
       " '/opt/conda/lib/python3.9',\n",
       " '/opt/conda/lib/python3.9/lib-dynload',\n",
       " '',\n",
       " '/opt/conda/lib/python3.9/site-packages',\n",
       " '/opt/conda/lib/python3.9/site-packages/IPython/extensions',\n",
       " '/aiffel/.ipython']"
      ]
     },
     "execution_count": 47,
     "metadata": {},
     "output_type": "execute_result"
    }
   ],
   "source": [
    "sys.path"
   ]
  },
  {
   "cell_type": "code",
   "execution_count": null,
   "id": "d5bab7c9",
   "metadata": {},
   "outputs": [],
   "source": []
  },
  {
   "cell_type": "markdown",
   "id": "b65dd726",
   "metadata": {},
   "source": [
    "csv"
   ]
  },
  {
   "cell_type": "code",
   "execution_count": 48,
   "id": "379384c8",
   "metadata": {},
   "outputs": [],
   "source": [
    "billboardchart = {\n",
    "  \t\t\t\t 1 : [\"Tho Box\",\"Roddy Ricch\",\"2019-12-19\"],\n",
    "                 2 : [\"Don't Start Now\", \"Dua Lipa\", \"2019-11-01\"],\n",
    "                 3 : [\"Life Is Good\", \"Future Featuring Drake\", \"2020-02-10\"],\n",
    "                 4 : [\"Blinding\", \"The Weeknd\", \"2019-11-29\"],\n",
    "                 5 : [\"Circles\", \"Post Malone\",\"2019-08-30\"]}\n",
    "\n",
    "with open(\"billboardchart.csv\",\"w\") as f:\n",
    "    for i in billboardchart.values():\n",
    "        data = \",\".join(i)\n",
    "        f.write(data+\"\\n\")"
   ]
  },
  {
   "cell_type": "code",
   "execution_count": 49,
   "id": "90c23cb1",
   "metadata": {},
   "outputs": [],
   "source": [
    "import csv\n",
    "\n",
    "header = [\"title\", \"singer\", \"released date\"]\n",
    "\n",
    "with open(\"billboardchart.csv\",\"r\") as inputfile:\n",
    "    with open(\"billboardchart_out.csv\",\"w\", newline='\\n') as outputfile:\n",
    "        fi = csv.reader(inputfile, delimiter=',')\n",
    "        fo = csv.writer(outputfile, delimiter=',')\n",
    "        fo.writerow(header)\n",
    "        for row in fi:\n",
    "            fo.writerow(row)"
   ]
  },
  {
   "cell_type": "code",
   "execution_count": 50,
   "id": "4758c65c",
   "metadata": {},
   "outputs": [],
   "source": [
    "fields = [\"title\", \"singer\", \"released date\"]\n",
    "rows = [ [\"Tho Box\",\"Roddy Ricch\",\"2019-12-19\"],\n",
    "               [\"Don't Start Now\", \"Dua Lipa\", \"2019-11-01\"],\n",
    "               [\"Life Is Good\", \"Future Featuring Drake\", \"2020-02-10\"],\n",
    "               [\"Blinding\", \"The Weeknd\", \"2019-11-29\"],\n",
    "               [\"Circles\", \"Post Malone\",\"2019-08-30\"]]"
   ]
  },
  {
   "cell_type": "code",
   "execution_count": 51,
   "id": "d8df653a",
   "metadata": {},
   "outputs": [
    {
     "name": "stdout",
     "output_type": "stream",
     "text": [
      "슝~\n"
     ]
    }
   ],
   "source": [
    "import pandas as pd\n",
    "\n",
    "df=pd.DataFrame(rows, columns=fields)\n",
    "df.to_csv('pandas.csv',index=False)"
   ]
  },
  {
   "cell_type": "code",
   "execution_count": 52,
   "id": "7ae958a8",
   "metadata": {},
   "outputs": [],
   "source": [
    "import csv \n",
    "\n",
    "filename = \"test.csv\"\n",
    "with open(filename, 'w+', newline='\\n') as csv_file: \n",
    "    csv_writer = csv.writer(csv_file) \n",
    "    csv_writer.writerow(fields) \n",
    "    csv_writer.writerows(rows)"
   ]
  },
  {
   "cell_type": "code",
   "execution_count": 53,
   "id": "b10af594",
   "metadata": {},
   "outputs": [
    {
     "data": {
      "text/html": [
       "<div>\n",
       "<style scoped>\n",
       "    .dataframe tbody tr th:only-of-type {\n",
       "        vertical-align: middle;\n",
       "    }\n",
       "\n",
       "    .dataframe tbody tr th {\n",
       "        vertical-align: top;\n",
       "    }\n",
       "\n",
       "    .dataframe thead th {\n",
       "        text-align: right;\n",
       "    }\n",
       "</style>\n",
       "<table border=\"1\" class=\"dataframe\">\n",
       "  <thead>\n",
       "    <tr style=\"text-align: right;\">\n",
       "      <th></th>\n",
       "      <th>title</th>\n",
       "      <th>singer</th>\n",
       "      <th>released date</th>\n",
       "    </tr>\n",
       "  </thead>\n",
       "  <tbody>\n",
       "    <tr>\n",
       "      <th>0</th>\n",
       "      <td>Tho Box</td>\n",
       "      <td>Roddy Ricch</td>\n",
       "      <td>2019-12-19</td>\n",
       "    </tr>\n",
       "    <tr>\n",
       "      <th>1</th>\n",
       "      <td>Don't Start Now</td>\n",
       "      <td>Dua Lipa</td>\n",
       "      <td>2019-11-01</td>\n",
       "    </tr>\n",
       "    <tr>\n",
       "      <th>2</th>\n",
       "      <td>Life Is Good</td>\n",
       "      <td>Future Featuring Drake</td>\n",
       "      <td>2020-02-10</td>\n",
       "    </tr>\n",
       "    <tr>\n",
       "      <th>3</th>\n",
       "      <td>Blinding</td>\n",
       "      <td>The Weeknd</td>\n",
       "      <td>2019-11-29</td>\n",
       "    </tr>\n",
       "    <tr>\n",
       "      <th>4</th>\n",
       "      <td>Circles</td>\n",
       "      <td>Post Malone</td>\n",
       "      <td>2019-08-30</td>\n",
       "    </tr>\n",
       "  </tbody>\n",
       "</table>\n",
       "</div>"
      ],
      "text/plain": [
       "             title                  singer released date\n",
       "0          Tho Box             Roddy Ricch    2019-12-19\n",
       "1  Don't Start Now                Dua Lipa    2019-11-01\n",
       "2     Life Is Good  Future Featuring Drake    2020-02-10\n",
       "3         Blinding              The Weeknd    2019-11-29\n",
       "4          Circles             Post Malone    2019-08-30"
      ]
     },
     "execution_count": 53,
     "metadata": {},
     "output_type": "execute_result"
    }
   ],
   "source": [
    "df = pd.read_csv('pandas.csv')\n",
    "df.head()"
   ]
  },
  {
   "cell_type": "code",
   "execution_count": null,
   "id": "051c6cf1",
   "metadata": {},
   "outputs": [],
   "source": []
  },
  {
   "cell_type": "markdown",
   "id": "ccf6683e",
   "metadata": {},
   "source": [
    "xml"
   ]
  },
  {
   "cell_type": "code",
   "execution_count": 55,
   "id": "b6fbb375",
   "metadata": {},
   "outputs": [
    {
     "name": "stdout",
     "output_type": "stream",
     "text": [
      "<Person><name>이펠</name><age>28</age><place>강남</place></Person>\n"
     ]
    }
   ],
   "source": [
    "import xml.etree.ElementTree as ET\n",
    "\n",
    "person = ET.Element(\"Person\")\n",
    "name = ET.Element(\"name\")\n",
    "name.text = \"이펠\"\n",
    "person.append(name)\n",
    "\n",
    "age = ET.Element(\"age\")\n",
    "age.text = \"28\"\n",
    "person.append(age)\n",
    "\n",
    "ET.SubElement(person, 'place').text = '강남'\n",
    "\n",
    "ET.dump(person)"
   ]
  },
  {
   "cell_type": "code",
   "execution_count": 56,
   "id": "3192a157",
   "metadata": {},
   "outputs": [
    {
     "name": "stdout",
     "output_type": "stream",
     "text": [
      "<Person id=\"0x0001\"><firstname>이펠</firstname><age>28</age><place>강남</place></Person>\n"
     ]
    }
   ],
   "source": [
    "person.attrib[\"id\"] = \"0x0001\"\n",
    "name.tag = \"firstname\"\n",
    "ET.dump(person)"
   ]
  },
  {
   "cell_type": "code",
   "execution_count": 57,
   "id": "48863cd8",
   "metadata": {},
   "outputs": [
    {
     "name": "stdout",
     "output_type": "stream",
     "text": [
      "<Person id=\"0x0001\"><lastname date=\"2020-03-20\">아</lastname><firstname>이펠</firstname><age>28</age><place>강남</place></Person>\n"
     ]
    }
   ],
   "source": [
    "lastname = ET.Element('lastname', date='2020-03-20')\n",
    "lastname.text = '아'\n",
    "person.insert(0,lastname)\n",
    "ET.dump(person)"
   ]
  },
  {
   "cell_type": "code",
   "execution_count": 58,
   "id": "cc412dfc",
   "metadata": {},
   "outputs": [],
   "source": [
    "person.remove(age)"
   ]
  },
  {
   "cell_type": "code",
   "execution_count": 59,
   "id": "eab6402b",
   "metadata": {},
   "outputs": [],
   "source": [
    "ET.ElementTree(person).write('person.xml')"
   ]
  },
  {
   "cell_type": "code",
   "execution_count": 60,
   "id": "278d86e8",
   "metadata": {},
   "outputs": [
    {
     "name": "stdout",
     "output_type": "stream",
     "text": [
      "aiffel\t\t\tdata\t    person.xml\r\n",
      "billboardchart.csv\thello.txt   test.csv\r\n",
      "billboardchart_out.csv\tpandas.csv  Untitled.ipynb\r\n"
     ]
    }
   ],
   "source": [
    "!ls"
   ]
  },
  {
   "cell_type": "code",
   "execution_count": 61,
   "id": "372eed1d",
   "metadata": {},
   "outputs": [
    {
     "name": "stdout",
     "output_type": "stream",
     "text": [
      "XML Developer's Guide\n",
      "Midnight Rain\n",
      "Maeve Ascendant\n",
      "Oberon's Legacy\n",
      "The Sundered Grail\n",
      "Lover Birds\n",
      "Splish Splash\n",
      "Creepy Crawlies\n",
      "Paradox Lost\n",
      "Microsoft .NET: The Programming Bible\n",
      "MSXML3: A Comprehensive Guide\n",
      "Visual Studio 7: A Comprehensive Guide\n"
     ]
    }
   ],
   "source": [
    "from bs4 import BeautifulSoup\n",
    "import os\n",
    "\n",
    "path = os.getenv(\"HOME\") + \"/aiffel/ftext/data/books.xml\"  # 로컬을 사용하시려면 경로는 수정해 주세요. \n",
    "with open(path, \"r\", encoding='utf8') as f:\n",
    "    booksxml = f.read() \n",
    "    #- 파일을 문자열로 읽기\n",
    " \n",
    "soup = BeautifulSoup(booksxml,'lxml') \n",
    "#- BeautifulSoup 객체 생성 : lxml parser를 이용해 데이터 분석\n",
    "\n",
    "for title in soup.find_all('title'): \n",
    "#-  태그를 찾는 find_all 함수 이용\n",
    "    print(title.get_text())"
   ]
  },
  {
   "cell_type": "code",
   "execution_count": null,
   "id": "aa9cfa2e",
   "metadata": {},
   "outputs": [],
   "source": []
  },
  {
   "cell_type": "markdown",
   "id": "7d418ed5",
   "metadata": {},
   "source": [
    "json"
   ]
  },
  {
   "cell_type": "code",
   "execution_count": 62,
   "id": "bdf47751",
   "metadata": {},
   "outputs": [],
   "source": [
    "import json\n",
    "\n",
    "person = {\n",
    "      \"first name\" : \"Yuna\",\n",
    "      \"last name\" : \"Jung\",\n",
    "      \"age\" : 33,\n",
    "      \"nationality\" : \"South Korea\",\n",
    "      \"education\" : [{\"degree\":\"B.S degree\", \"university\":\"Daehan university\", \"major\": \"mechanical engineering\", \"graduated year\":2010}]\n",
    "       } \n",
    "\n",
    "with open(\"person.json\", \"w\") as f:\n",
    "    json.dump(person , f)"
   ]
  },
  {
   "cell_type": "code",
   "execution_count": 63,
   "id": "f43a005c",
   "metadata": {},
   "outputs": [
    {
     "name": "stdout",
     "output_type": "stream",
     "text": [
      "Yuna\n",
      "[{'degree': 'B.S degree', 'university': 'Daehan university', 'major': 'mechanical engineering', 'graduated year': 2010}]\n"
     ]
    }
   ],
   "source": [
    "import json\n",
    "\n",
    "with open(\"person.json\", \"r\", encoding=\"utf-8\") as f:\n",
    "    contents = json.load(f)\n",
    "    print(contents[\"first name\"])\n",
    "    print(contents[\"education\"])"
   ]
  },
  {
   "cell_type": "code",
   "execution_count": null,
   "id": "206c9a4a",
   "metadata": {},
   "outputs": [],
   "source": []
  }
 ],
 "metadata": {
  "kernelspec": {
   "display_name": "Python 3 (ipykernel)",
   "language": "python",
   "name": "python3"
  },
  "language_info": {
   "codemirror_mode": {
    "name": "ipython",
    "version": 3
   },
   "file_extension": ".py",
   "mimetype": "text/x-python",
   "name": "python",
   "nbconvert_exporter": "python",
   "pygments_lexer": "ipython3",
   "version": "3.9.7"
  }
 },
 "nbformat": 4,
 "nbformat_minor": 5
}
